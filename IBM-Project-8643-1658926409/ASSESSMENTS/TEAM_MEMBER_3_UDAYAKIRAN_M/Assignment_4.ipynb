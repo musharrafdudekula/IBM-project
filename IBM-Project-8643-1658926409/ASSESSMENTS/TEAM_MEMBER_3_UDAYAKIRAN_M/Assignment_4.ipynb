{
 "cells": [
  {
   "cell_type": "code",
   "execution_count": null,
   "metadata": {
    "id": "DieBTVEMFC3R"
   },
   "outputs": [],
   "source": [
    "import pandas as pd\n",
    "import numpy as np\n",
    "import matplotlib.pyplot as plt\n",
    "import seaborn as sns"
   ]
  },
  {
   "cell_type": "code",
   "execution_count": null,
   "metadata": {
    "colab": {
     "base_uri": "https://localhost:8080/",
     "height": 206
    },
    "id": "lHWAxFIvFR2t",
    "outputId": "26f5f16e-5f06-4731-f18d-254899fecc8a"
   },
   "outputs": [],
   "source": [
    "data=pd.read_csv(\"/content/Mall_Customers.csv\")\n",
    "data.head()"
   ]
  },
  {
   "cell_type": "code",
   "execution_count": null,
   "metadata": {
    "colab": {
     "base_uri": "https://localhost:8080/",
     "height": 300
    },
    "id": "66kiWOoVFsbG",
    "outputId": "1869fe83-e374-42ed-e6c5-082ef46d50a2"
   },
   "outputs": [],
   "source": [
    "df=pd.DataFrame(data)\n",
    "df.describe()"
   ]
  },
  {
   "cell_type": "code",
   "execution_count": null,
   "metadata": {
    "colab": {
     "base_uri": "https://localhost:8080/",
     "height": 424
    },
    "id": "HkpCutnrFyEO",
    "outputId": "cd9a6ba6-2dd3-4069-83be-6fd41d73f570"
   },
   "outputs": [],
   "source": [
    "df=df.drop([\"CustomerID\"],axis=1)\n",
    "df.isnull()"
   ]
  },
  {
   "cell_type": "code",
   "execution_count": null,
   "metadata": {
    "colab": {
     "base_uri": "https://localhost:8080/"
    },
    "id": "s5DedlV0FySA",
    "outputId": "13a364ee-ed3b-44ae-fe39-873935e1e863"
   },
   "outputs": [],
   "source": [
    "df.isna().sum()"
   ]
  },
  {
   "cell_type": "code",
   "execution_count": null,
   "metadata": {
    "colab": {
     "base_uri": "https://localhost:8080/",
     "height": 143
    },
    "id": "rbGLJC-FF6_E",
    "outputId": "1787eebc-77d8-4710-a877-da599be12925"
   },
   "outputs": [],
   "source": [
    "df.corr()"
   ]
  },
  {
   "cell_type": "code",
   "execution_count": null,
   "metadata": {
    "colab": {
     "base_uri": "https://localhost:8080/",
     "height": 394
    },
    "id": "BVUVLQLlGCls",
    "outputId": "f4970109-e7cd-461e-9854-3636b803c411"
   },
   "outputs": [],
   "source": [
    "sns.heatmap(df.corr(),annot=True)"
   ]
  },
  {
   "cell_type": "code",
   "execution_count": null,
   "metadata": {
    "colab": {
     "base_uri": "https://localhost:8080/",
     "height": 567
    },
    "id": "LCZSvm4GGIP5",
    "outputId": "fcc766ba-a3ed-4a2a-96ee-fef3810c7d04"
   },
   "outputs": [],
   "source": [
    "#Mivariate Analysis\n",
    "sns.pairplot(df)"
   ]
  },
  {
   "cell_type": "code",
   "execution_count": null,
   "metadata": {
    "colab": {
     "base_uri": "https://localhost:8080/",
     "height": 182
    },
    "id": "fePuY_7iGNd7",
    "outputId": "038bc671-46be-4c90-c904-05708596a5cd"
   },
   "outputs": [],
   "source": [
    "#Univariate Analysis of Continous Variables\n",
    "l=list(df.columns)\n",
    "l1=l[1:]\n",
    "for i in range(len(l1)):\n",
    "  plt.subplot(4,2,i+1)\n",
    "  sns.histplot(df[l1[i]])\n",
    "  plt.title(f'{l1[i]}')"
   ]
  },
  {
   "cell_type": "code",
   "execution_count": null,
   "metadata": {
    "colab": {
     "base_uri": "https://localhost:8080/",
     "height": 367
    },
    "id": "aqYYL3gxGSuR",
    "outputId": "6cb76759-7492-445b-c971-ef43236dcffb"
   },
   "outputs": [],
   "source": [
    "#Univariate Analysis of Categorical Values\n",
    "sns.countplot(df['Gender'])\n",
    "plt.title('Gender')"
   ]
  },
  {
   "cell_type": "code",
   "execution_count": null,
   "metadata": {
    "colab": {
     "base_uri": "https://localhost:8080/",
     "height": 112
    },
    "id": "zq8c5nN4GXfA",
    "outputId": "c7aa9757-33d9-4154-f62e-0b47652a75f5"
   },
   "outputs": [],
   "source": [
    "#Bivariate Analysis of Continous Variables\n",
    "df[list(df.columns[2:])].corr()"
   ]
  },
  {
   "cell_type": "code",
   "execution_count": null,
   "metadata": {
    "colab": {
     "base_uri": "https://localhost:8080/",
     "height": 206
    },
    "id": "QhAs70qsGayK",
    "outputId": "11140f32-cc01-4d7a-af4c-fe8371933bf9"
   },
   "outputs": [],
   "source": [
    "#Label Encoding For Categorical Values\n",
    "from sklearn import preprocessing\n",
    "label_encoder=preprocessing.LabelEncoder()\n",
    "df['Gender']=label_encoder.fit_transform(df['Gender'])\n",
    "df.head()"
   ]
  },
  {
   "cell_type": "code",
   "execution_count": null,
   "metadata": {
    "colab": {
     "base_uri": "https://localhost:8080/"
    },
    "id": "VqQXPKsLGek5",
    "outputId": "00270e1c-fd8d-40cf-f6d4-a1ea9459b23f"
   },
   "outputs": [],
   "source": [
    "#Outiers Identification And Replacing Using Quantile-Based Flooring and Capping for Continuous Variables\n",
    "\n",
    "q1=df['Age'].quantile(0.10)\n",
    "q2=df['Age'].quantile(0.90)\n",
    "df['Age']=np.where(df['Age']<q1,q1,df['Age'])\n",
    "df['Age']=np.where(df['Age']>q2,q2,df['Age'])\n",
    "print(df['Age'].skew())\n",
    "\n",
    "q1=df['Annual Income (k$)'].quantile(0.10)\n",
    "q2=df['Annual Income (k$)'].quantile(0.90)\n",
    "df['Annual Income (k$)']=np.where(df['Annual Income (k$)']<q1,q1,df['Annual Income (k$)'])\n",
    "df['Annual Income (k$)']=np.where(df['Annual Income (k$)']>q2,q2,df['Annual Income (k$)'])\n",
    "print(df['Annual Income (k$)'].skew())\n",
    "\n",
    "q1=df['Spending Score (1-100)'].quantile(0.10)\n",
    "q2=df['Spending Score (1-100)'].quantile(0.90)\n",
    "df['Spending Score (1-100)']=np.where(df['Spending Score (1-100)']<q1,q1,df['Spending Score (1-100)'])\n",
    "df['Spending Score (1-100)']=np.where(df['Spending Score (1-100)']>q2,q2,df['Spending Score (1-100)'])\n",
    "print(df['Spending Score (1-100)'].skew())"
   ]
  },
  {
   "cell_type": "code",
   "execution_count": null,
   "metadata": {
    "colab": {
     "base_uri": "https://localhost:8080/",
     "height": 424
    },
    "id": "m4ssls8sGi9k",
    "outputId": "b8ff318c-cc30-4357-a37f-6aaf45187697"
   },
   "outputs": [],
   "source": [
    "df"
   ]
  },
  {
   "cell_type": "code",
   "execution_count": null,
   "metadata": {
    "colab": {
     "base_uri": "https://localhost:8080/"
    },
    "id": "t1FL4sZsGm7x",
    "outputId": "99e6853c-004c-45bf-a72d-a5b7afea04a8"
   },
   "outputs": [],
   "source": [
    "#Scaling Variables\n",
    "import pandas as pd\n",
    "from sklearn.preprocessing import StandardScaler\n",
    "scaler=StandardScaler()\n",
    "scaled=scaler.fit_transform(df)\n",
    "print(scaled)"
   ]
  },
  {
   "cell_type": "code",
   "execution_count": null,
   "metadata": {
    "colab": {
     "base_uri": "https://localhost:8080/",
     "height": 1000
    },
    "id": "Kr96bFMRGrRN",
    "outputId": "0ceb19a2-66ec-4a5a-a6ef-040d2881400c"
   },
   "outputs": [],
   "source": [
    "#Elbow Method To Find Number Of Clusters\n",
    "w=[]\n",
    "K=range(1,10)\n",
    "for k in K:\n",
    "  kmeanModel=KMeans(n_clusters=k)\n",
    "  kmeanModel.fit(scaled)\n",
    "  w.append(kmeanModel.inertia_)\n",
    "\n",
    "  plt.figure(figsize=(16,8))\n",
    "  plt.plot(w)\n",
    "  plt.xlabel('Number of clusters')\n",
    "  plt.ylabel('Distortion')\n",
    "  plt.title('The Elbow Method showing the optimal number of clusters(k)')\n",
    "\n",
    "  plt.show()"
   ]
  },
  {
   "cell_type": "code",
   "execution_count": null,
   "metadata": {
    "colab": {
     "base_uri": "https://localhost:8080/"
    },
    "id": "Gm23qYdWHIHH",
    "outputId": "69c88d05-f6c7-4038-c080-cff144997044"
   },
   "outputs": [],
   "source": [
    "#Training the model-support vectom regression\n",
    "from sklearn.cluster import KMeans\n",
    "kmean=KMeans(n_clusters=3)\n",
    "kmean.fit(scaled)\n",
    "y_pred=kmean.predict(scaled)\n",
    "df['pred_cluster']=y_pred\n",
    "df.head"
   ]
  },
  {
   "cell_type": "code",
   "execution_count": null,
   "metadata": {
    "colab": {
     "base_uri": "https://localhost:8080/",
     "height": 206
    },
    "id": "AJqzHOpeHYMe",
    "outputId": "e4accee0-99c6-475f-ed06-96c784cf5c26"
   },
   "outputs": [],
   "source": [
    "#Independent Variables\n",
    "l2=list(df.columns)\n",
    "df2=df[l2[:len(l2)-1]]\n",
    "df2.head()"
   ]
  },
  {
   "cell_type": "code",
   "execution_count": null,
   "metadata": {
    "colab": {
     "base_uri": "https://localhost:8080/"
    },
    "id": "Jy_LBrOXHefv",
    "outputId": "9310f08c-af7a-4653-c36f-a5f9ed9b8cc8"
   },
   "outputs": [],
   "source": [
    "#Dependent Variables\n",
    "df1=df['pred_cluster']\n",
    "df1"
   ]
  },
  {
   "cell_type": "code",
   "execution_count": null,
   "metadata": {
    "colab": {
     "base_uri": "https://localhost:8080/"
    },
    "id": "mmBfQ6cNHiAo",
    "outputId": "f078c5f3-5a73-4fab-c805-6ddce1b5f1a0"
   },
   "outputs": [],
   "source": [
    "#Scaling Variables\n",
    "import pandas as pd\n",
    "from sklearn.preprocessing import StandardScaler\n",
    "scaler=StandardScaler()\n",
    "scaled=scaler.fit_transform(df)\n",
    "print(scaled)"
   ]
  },
  {
   "cell_type": "code",
   "execution_count": null,
   "metadata": {
    "id": "y_CJC3mrHl6A"
   },
   "outputs": [],
   "source": [
    "#Splitting Dataset\n",
    "import numpy as np\n",
    "from sklearn.model_selection import train_test_split\n",
    "y=df['pred_cluster'].to_numpy()\n",
    "X_train,X_test,y_train,y_test=train_test_split(scaled,y,test_size=0.10,random_state=42)"
   ]
  },
  {
   "cell_type": "code",
   "execution_count": null,
   "metadata": {
    "colab": {
     "base_uri": "https://localhost:8080/"
    },
    "id": "BB0i3kaWHq43",
    "outputId": "ac611832-db63-4938-cb21-471d129a2671"
   },
   "outputs": [],
   "source": [
    "X_train.shape"
   ]
  },
  {
   "cell_type": "code",
   "execution_count": null,
   "metadata": {
    "colab": {
     "base_uri": "https://localhost:8080/"
    },
    "id": "D9Lj5WFuHwLx",
    "outputId": "b072c69a-da9f-4e4e-93fd-fe31d4fc9343"
   },
   "outputs": [],
   "source": [
    "X_test.shape"
   ]
  },
  {
   "cell_type": "code",
   "execution_count": null,
   "metadata": {
    "colab": {
     "base_uri": "https://localhost:8080/"
    },
    "id": "Nlv4qX2UHzlW",
    "outputId": "f057d35e-5252-4095-8569-874aafbf4b15"
   },
   "outputs": [],
   "source": [
    "y_train.shape"
   ]
  },
  {
   "cell_type": "code",
   "execution_count": null,
   "metadata": {
    "colab": {
     "base_uri": "https://localhost:8080/"
    },
    "id": "Yr6XATYeH3iA",
    "outputId": "ede01c65-566a-4d11-c183-bc10ca77643e"
   },
   "outputs": [],
   "source": [
    "y_test.shape"
   ]
  },
  {
   "cell_type": "code",
   "execution_count": null,
   "metadata": {
    "colab": {
     "base_uri": "https://localhost:8080/"
    },
    "id": "X4hForNxH7Km",
    "outputId": "ee81f644-ea6b-4080-aa4d-a7bade786107"
   },
   "outputs": [],
   "source": [
    "#Training the model\n",
    "from sklearn.svm import SVR\n",
    "regrassor=SVR(kernel='rbf')\n",
    "regrassor.fit(X_train,y_train)"
   ]
  },
  {
   "cell_type": "code",
   "execution_count": null,
   "metadata": {
    "id": "Bqh--5b_IB2D"
   },
   "outputs": [],
   "source": [
    "#Testing the model\n",
    "y_pred=regrassor.predict((X_test))\n"
   ]
  },
  {
   "cell_type": "code",
   "execution_count": null,
   "metadata": {
    "colab": {
     "base_uri": "https://localhost:8080/",
     "height": 676
    },
    "id": "jX30NB_kIXuM",
    "outputId": "54b0a1aa-36a0-4905-f007-2496a7350cc2"
   },
   "outputs": [],
   "source": [
    "df3=pd.DataFrame({'Predicted value':y_pred,'Real Value':y_test})\n",
    "df3"
   ]
  },
  {
   "cell_type": "code",
   "execution_count": null,
   "metadata": {
    "colab": {
     "base_uri": "https://localhost:8080/"
    },
    "id": "cz0UMFTmIdqF",
    "outputId": "6a71b844-d7d6-432b-9193-c091dbc812de"
   },
   "outputs": [],
   "source": [
    "#performance metrics\n",
    "from sklearn.metrics import mean_squared_error\n",
    "import math\n",
    "print(mean_squared_error(y_test,y_pred))\n",
    "print(math.sqrt(mean_squared_error(y_test,y_pred)))\n"
   ]
  },
  {
   "cell_type": "code",
   "execution_count": null,
   "metadata": {},
   "outputs": [],
   "source": []
  }
 ],
 "metadata": {
  "colab": {
   "provenance": []
  },
  "kernelspec": {
   "display_name": "Python 3 (ipykernel)",
   "language": "python",
   "name": "python3"
  },
  "language_info": {
   "codemirror_mode": {
    "name": "ipython",
    "version": 3
   },
   "file_extension": ".py",
   "mimetype": "text/x-python",
   "name": "python",
   "nbconvert_exporter": "python",
   "pygments_lexer": "ipython3",
   "version": "3.9.13"
  }
 },
 "nbformat": 4,
 "nbformat_minor": 1
}
